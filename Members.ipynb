{
  "nbformat": 4,
  "nbformat_minor": 0,
  "metadata": {
    "colab": {
      "provenance": []
    },
    "kernelspec": {
      "name": "python3",
      "display_name": "Python 3"
    },
    "language_info": {
      "name": "python"
    }
  },
  "cells": [
    {
      "cell_type": "code",
      "execution_count": null,
      "metadata": {
        "id": "iy2MvEl0WFA7"
      },
      "outputs": [],
      "source": [
        "file = open('members.txt', mode = 'r')\n",
        "file.name\n",
        "\n",
        "p = []; q = [];\n",
        "\n",
        "members = file.readlines()\n",
        "for i in range (len(members)):\n",
        "  members[i] = members[i].split()\n",
        "\n",
        "for i in range (1,len(members)):\n",
        "  if 'no' in members[i]:\n",
        "    p.append(members[i])\n",
        "  elif 'yes' in members[i]:\n",
        "    q.append(members[i])\n",
        "\n",
        "print(p)\n",
        "print(q)\n",
        "\n",
        "\n",
        "file_active = open(\"active.txt\", \"wt\")\n",
        "file_active = open(\"active.txt\",\"w+\")\n",
        "for i in range(len(q)):\n",
        "  file_active.write(q[i])\n",
        "  \n",
        "file_inactive = open(\"inactive.txt\", \"wt\")\n",
        "file_inactive = open(\"active.txt\",\"w+\")\n",
        "for i in range(len(p)):\n",
        "  file.active.write(p[i])"
      ]
    }
  ]
}